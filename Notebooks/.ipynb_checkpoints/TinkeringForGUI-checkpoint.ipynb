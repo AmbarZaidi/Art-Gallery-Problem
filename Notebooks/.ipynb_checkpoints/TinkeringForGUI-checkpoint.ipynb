{
 "cells": [
  {
   "cell_type": "code",
   "execution_count": null,
   "metadata": {},
   "outputs": [
    {
     "name": "stdout",
     "output_type": "stream",
     "text": [
      "popo 6\n",
      "('Points:', array([[-62,  61],\n",
      "       [-53,  -5],\n",
      "       [  2, -73],\n",
      "       [ 15, -39],\n",
      "       [ 36, -37],\n",
      "       [ 53,  53],\n",
      "       [-62,  61]]))\n"
     ]
    }
   ],
   "source": [
    "from numpy.random import randint\n",
    "from easygui import multenterbox\n",
    "from numpy import lexsort,asarray,append\n",
    "from matplotlib.pyplot import figure,show\n",
    "\n",
    "msg = \"Enter the value of 'n'\"\n",
    "title = \"Polygon with 'n' sides\"\n",
    "fieldNames = [\"  n\"]\n",
    "fieldValues = multenterbox(msg,title,fieldNames)\n",
    "while 1:\n",
    "    if fieldValues == None: break\n",
    "    errmsg = \"\"\n",
    "    try:\n",
    "        int(fieldValues[0])\n",
    "    except:\n",
    "        errmsg = errmsg + ('%s is a required to be a number.\\n\\n' % fieldNames[0])\n",
    "    if fieldValues[0].strip() == \"\":\n",
    "        errmsg = errmsg + ('%s is a required field.\\n\\n' % fieldNames[0])\n",
    "    if errmsg == \"\": break\n",
    "    fieldValues = multenterbox(errmsg, title, fieldNames, fieldValues)\n",
    "    \n",
    "\n",
    "n = int(fieldValues[0])\n",
    "fi = 0\n",
    "\n",
    "# for i in range (1,10):\n",
    "fi += 1\n",
    "coords = randint(-90,90, size=(2,n))\n",
    "x = coords[0] \n",
    "y = coords[1]\n",
    "ind = lexsort((y,x))\n",
    "coords = [(x[i],y[i]) for i in ind] \n",
    "x = asarray([c[0] for c in coords])\n",
    "y = asarray([c[1] for c in coords])\n",
    "pivot = coords[0]\n",
    "\n",
    "print \"popo\",len(coords)\n",
    "\n",
    "y_diff_pivot = y-pivot[1]\n",
    "x_diff_pivot = x-pivot[0]\n",
    "tan = (y_diff_pivot[1:]+0.0)/x_diff_pivot[1:]\n",
    "\n",
    "pairs = zip(tan,coords[1:])\n",
    "pairs = sorted(pairs, key = lambda (x,y): x)\n",
    "\n",
    "coords = asarray([pivot])\n",
    "coords = append(coords, asarray( zip(*pairs)[-1] ), axis=0 )\n",
    "coords = append(coords, asarray([pivot]), axis=0 )\n",
    "\n",
    "print (\"Points:\", coords)\n",
    "\n",
    "### Plotting generated polygon\n",
    "\n",
    "fig = figure('Figure '+str(fi))\n",
    "ax = fig.add_subplot(111)\n",
    "x = coords[:,0]\n",
    "y = coords[:,1]\n",
    "ax.plot(x, y, \"go\")\n",
    "ax.fill(x, y, \"r\")   \n",
    "ax.set_xlim(-100, 100)\n",
    "ax.set_ylim(-100, 100)\n",
    "\n",
    "show()"
   ]
  },
  {
   "cell_type": "code",
   "execution_count": null,
   "metadata": {},
   "outputs": [],
   "source": [
    "2"
   ]
  }
 ],
 "metadata": {
  "kernelspec": {
   "display_name": "Python 2",
   "language": "python",
   "name": "python2"
  },
  "language_info": {
   "codemirror_mode": {
    "name": "ipython",
    "version": 2
   },
   "file_extension": ".py",
   "mimetype": "text/x-python",
   "name": "python",
   "nbconvert_exporter": "python",
   "pygments_lexer": "ipython2",
   "version": "2.7.14"
  }
 },
 "nbformat": 4,
 "nbformat_minor": 2
}
